{
 "cells": [
  {
   "cell_type": "markdown",
   "metadata": {},
   "source": [
    "now we calcuate all prescriped values in all datatsets"
   ]
  },
  {
   "cell_type": "markdown",
   "metadata": {},
   "source": [
    "# datasets7"
   ]
  },
  {
   "cell_type": "code",
   "execution_count": 2,
   "metadata": {},
   "outputs": [],
   "source": [
    "import pandas as pd\n",
    "import numpy as np\n",
    "import networkx as nx\n"
   ]
  },
  {
   "cell_type": "code",
   "execution_count": 3,
   "metadata": {},
   "outputs": [],
   "source": [
    "df7=pd.read_csv(\"C:\\\\Users\\\\Shubham\\\\Desktop\\\\mini marathon challenge\\\\Dataset-7 - Dataset-7.csv\")"
   ]
  },
  {
   "cell_type": "code",
   "execution_count": 139,
   "metadata": {},
   "outputs": [
    {
     "data": {
      "text/html": [
       "<div>\n",
       "<style scoped>\n",
       "    .dataframe tbody tr th:only-of-type {\n",
       "        vertical-align: middle;\n",
       "    }\n",
       "\n",
       "    .dataframe tbody tr th {\n",
       "        vertical-align: top;\n",
       "    }\n",
       "\n",
       "    .dataframe thead th {\n",
       "        text-align: right;\n",
       "    }\n",
       "</style>\n",
       "<table border=\"1\" class=\"dataframe\">\n",
       "  <thead>\n",
       "    <tr style=\"text-align: right;\">\n",
       "      <th></th>\n",
       "      <th>Unnamed: 0</th>\n",
       "      <th>Demand</th>\n",
       "      <th>Demand Growth Rate</th>\n",
       "      <th>L</th>\n",
       "      <th>Initial Possible Truck Size</th>\n",
       "      <th>Possible Truck Size</th>\n",
       "      <th>Maximum Warehouse Size</th>\n",
       "      <th>Travel Time between Depot and each Warehouses [days]</th>\n",
       "      <th>Unnamed: 8</th>\n",
       "      <th>Unnamed: 9</th>\n",
       "      <th>...</th>\n",
       "      <th>Unnamed: 13</th>\n",
       "      <th>Unnamed: 14</th>\n",
       "      <th>Unnamed: 15</th>\n",
       "      <th>Unnamed: 16</th>\n",
       "      <th>Unnamed: 17</th>\n",
       "      <th>Unnamed: 18</th>\n",
       "      <th>Unnamed: 19</th>\n",
       "      <th>Unnamed: 20</th>\n",
       "      <th>Unnamed: 21</th>\n",
       "      <th>Unnamed: 22</th>\n",
       "    </tr>\n",
       "  </thead>\n",
       "  <tbody>\n",
       "    <tr>\n",
       "      <th>0</th>\n",
       "      <td>Depot/Warehouse Name</td>\n",
       "      <td>NaN</td>\n",
       "      <td>NaN</td>\n",
       "      <td>NaN</td>\n",
       "      <td>NaN</td>\n",
       "      <td>NaN</td>\n",
       "      <td>NaN</td>\n",
       "      <td>Depo</td>\n",
       "      <td>wh.1</td>\n",
       "      <td>wh.2</td>\n",
       "      <td>...</td>\n",
       "      <td>wh.6</td>\n",
       "      <td>wh.7</td>\n",
       "      <td>wh.8</td>\n",
       "      <td>wh.9</td>\n",
       "      <td>wh.10</td>\n",
       "      <td>wh.11</td>\n",
       "      <td>wh.12</td>\n",
       "      <td>wh.13</td>\n",
       "      <td>wh.14</td>\n",
       "      <td>wh.15</td>\n",
       "    </tr>\n",
       "    <tr>\n",
       "      <th>1</th>\n",
       "      <td>Depo</td>\n",
       "      <td>0.000000</td>\n",
       "      <td>0.0</td>\n",
       "      <td>445.0</td>\n",
       "      <td>320.0</td>\n",
       "      <td>320.0</td>\n",
       "      <td>-</td>\n",
       "      <td>0</td>\n",
       "      <td>1.0289</td>\n",
       "      <td>1.3505</td>\n",
       "      <td>...</td>\n",
       "      <td>1.7588</td>\n",
       "      <td>1.9453</td>\n",
       "      <td>1.7203</td>\n",
       "      <td>1.865</td>\n",
       "      <td>1.9293</td>\n",
       "      <td>1.865</td>\n",
       "      <td>2.2186</td>\n",
       "      <td>2.2026</td>\n",
       "      <td>2.508</td>\n",
       "      <td>2.4598</td>\n",
       "    </tr>\n",
       "    <tr>\n",
       "      <th>2</th>\n",
       "      <td>wh.1</td>\n",
       "      <td>8.837866</td>\n",
       "      <td>0.0</td>\n",
       "      <td>445.0</td>\n",
       "      <td>20.0</td>\n",
       "      <td>320.0</td>\n",
       "      <td>100</td>\n",
       "      <td>1.0289</td>\n",
       "      <td>0</td>\n",
       "      <td>0.3215</td>\n",
       "      <td>...</td>\n",
       "      <td>0.7299</td>\n",
       "      <td>0.9164</td>\n",
       "      <td>0.6913</td>\n",
       "      <td>0.836</td>\n",
       "      <td>0.9003</td>\n",
       "      <td>0.836</td>\n",
       "      <td>1.1897</td>\n",
       "      <td>1.1736</td>\n",
       "      <td>1.4791</td>\n",
       "      <td>1.4309</td>\n",
       "    </tr>\n",
       "  </tbody>\n",
       "</table>\n",
       "<p>3 rows × 23 columns</p>\n",
       "</div>"
      ],
      "text/plain": [
       "             Unnamed: 0    Demand  Demand Growth Rate      L  \\\n",
       "0  Depot/Warehouse Name       NaN                 NaN    NaN   \n",
       "1                  Depo  0.000000                 0.0  445.0   \n",
       "2                  wh.1  8.837866                 0.0  445.0   \n",
       "\n",
       "   Initial Possible Truck Size  Possible Truck Size Maximum Warehouse Size  \\\n",
       "0                          NaN                  NaN                    NaN   \n",
       "1                        320.0                320.0                      -   \n",
       "2                         20.0                320.0                    100   \n",
       "\n",
       "  Travel Time between Depot and each Warehouses [days] Unnamed: 8 Unnamed: 9  \\\n",
       "0                                               Depo         wh.1       wh.2   \n",
       "1                                                  0       1.0289     1.3505   \n",
       "2                                             1.0289            0     0.3215   \n",
       "\n",
       "   ... Unnamed: 13 Unnamed: 14 Unnamed: 15 Unnamed: 16 Unnamed: 17  \\\n",
       "0  ...        wh.6        wh.7        wh.8        wh.9       wh.10   \n",
       "1  ...      1.7588      1.9453      1.7203       1.865      1.9293   \n",
       "2  ...      0.7299      0.9164      0.6913       0.836      0.9003   \n",
       "\n",
       "  Unnamed: 18 Unnamed: 19 Unnamed: 20 Unnamed: 21 Unnamed: 22  \n",
       "0       wh.11       wh.12       wh.13       wh.14       wh.15  \n",
       "1       1.865      2.2186      2.2026       2.508      2.4598  \n",
       "2       0.836      1.1897      1.1736      1.4791      1.4309  \n",
       "\n",
       "[3 rows x 23 columns]"
      ]
     },
     "execution_count": 139,
     "metadata": {},
     "output_type": "execute_result"
    }
   ],
   "source": [
    "df7.head(3)"
   ]
  },
  {
   "cell_type": "code",
   "execution_count": 148,
   "metadata": {},
   "outputs": [
    {
     "data": {
      "text/html": [
       "<div>\n",
       "<style scoped>\n",
       "    .dataframe tbody tr th:only-of-type {\n",
       "        vertical-align: middle;\n",
       "    }\n",
       "\n",
       "    .dataframe tbody tr th {\n",
       "        vertical-align: top;\n",
       "    }\n",
       "\n",
       "    .dataframe thead th {\n",
       "        text-align: right;\n",
       "    }\n",
       "</style>\n",
       "<table border=\"1\" class=\"dataframe\">\n",
       "  <thead>\n",
       "    <tr style=\"text-align: right;\">\n",
       "      <th></th>\n",
       "      <th>Demand</th>\n",
       "      <th>Demand Growth Rate</th>\n",
       "      <th>L</th>\n",
       "      <th>Initial Possible Truck Size</th>\n",
       "      <th>Possible Truck Size</th>\n",
       "    </tr>\n",
       "  </thead>\n",
       "  <tbody>\n",
       "    <tr>\n",
       "      <th>count</th>\n",
       "      <td>16.000000</td>\n",
       "      <td>16.0</td>\n",
       "      <td>16.00000</td>\n",
       "      <td>16.00</td>\n",
       "      <td>16.0</td>\n",
       "    </tr>\n",
       "    <tr>\n",
       "      <th>mean</th>\n",
       "      <td>2.444985</td>\n",
       "      <td>0.0</td>\n",
       "      <td>1446.25000</td>\n",
       "      <td>38.75</td>\n",
       "      <td>320.0</td>\n",
       "    </tr>\n",
       "    <tr>\n",
       "      <th>std</th>\n",
       "      <td>2.016401</td>\n",
       "      <td>0.0</td>\n",
       "      <td>1939.71003</td>\n",
       "      <td>75.00</td>\n",
       "      <td>0.0</td>\n",
       "    </tr>\n",
       "    <tr>\n",
       "      <th>min</th>\n",
       "      <td>0.000000</td>\n",
       "      <td>0.0</td>\n",
       "      <td>445.00000</td>\n",
       "      <td>20.00</td>\n",
       "      <td>320.0</td>\n",
       "    </tr>\n",
       "    <tr>\n",
       "      <th>25%</th>\n",
       "      <td>1.505786</td>\n",
       "      <td>0.0</td>\n",
       "      <td>445.00000</td>\n",
       "      <td>20.00</td>\n",
       "      <td>320.0</td>\n",
       "    </tr>\n",
       "    <tr>\n",
       "      <th>50%</th>\n",
       "      <td>1.756324</td>\n",
       "      <td>0.0</td>\n",
       "      <td>445.00000</td>\n",
       "      <td>20.00</td>\n",
       "      <td>320.0</td>\n",
       "    </tr>\n",
       "    <tr>\n",
       "      <th>75%</th>\n",
       "      <td>2.634487</td>\n",
       "      <td>0.0</td>\n",
       "      <td>890.00000</td>\n",
       "      <td>20.00</td>\n",
       "      <td>320.0</td>\n",
       "    </tr>\n",
       "    <tr>\n",
       "      <th>max</th>\n",
       "      <td>8.837866</td>\n",
       "      <td>0.0</td>\n",
       "      <td>5340.00000</td>\n",
       "      <td>320.00</td>\n",
       "      <td>320.0</td>\n",
       "    </tr>\n",
       "  </tbody>\n",
       "</table>\n",
       "</div>"
      ],
      "text/plain": [
       "          Demand  Demand Growth Rate           L  Initial Possible Truck Size  \\\n",
       "count  16.000000                16.0    16.00000                        16.00   \n",
       "mean    2.444985                 0.0  1446.25000                        38.75   \n",
       "std     2.016401                 0.0  1939.71003                        75.00   \n",
       "min     0.000000                 0.0   445.00000                        20.00   \n",
       "25%     1.505786                 0.0   445.00000                        20.00   \n",
       "50%     1.756324                 0.0   445.00000                        20.00   \n",
       "75%     2.634487                 0.0   890.00000                        20.00   \n",
       "max     8.837866                 0.0  5340.00000                       320.00   \n",
       "\n",
       "       Possible Truck Size  \n",
       "count                 16.0  \n",
       "mean                 320.0  \n",
       "std                    0.0  \n",
       "min                  320.0  \n",
       "25%                  320.0  \n",
       "50%                  320.0  \n",
       "75%                  320.0  \n",
       "max                  320.0  "
      ]
     },
     "execution_count": 148,
     "metadata": {},
     "output_type": "execute_result"
    }
   ],
   "source": [
    "df7.describe()"
   ]
  },
  {
   "cell_type": "markdown",
   "metadata": {},
   "source": [
    "networkx graph plot"
   ]
  },
  {
   "cell_type": "code",
   "execution_count": 140,
   "metadata": {},
   "outputs": [],
   "source": [
    "G7= nx.from_pandas_edgelist(df7 ,'Unnamed: 0' ,  'Demand','Travel Time between Depot and each Warehouses [days]')"
   ]
  },
  {
   "cell_type": "code",
   "execution_count": 142,
   "metadata": {},
   "outputs": [
    {
     "data": {
      "image/png": "[encoded data removed]",
      "text/plain": [
       "<Figure size 432x288 with 1 Axes>"
      ]
     },
     "metadata": {},
     "output_type": "display_data"
    }
   ],
   "source": [
    "nx.draw(G7, with_labels=True)"
   ]
  },
  {
   "cell_type": "markdown",
   "metadata": {},
   "source": [
    "now we will do calculation for all datasets"
   ]
  },
  {
   "cell_type": "markdown",
   "metadata": {},
   "source": [
    "total Cost = Equipment Cost + Normalized Operating Cost + Investment Cos"
   ]
  },
  {
   "cell_type": "code",
   "execution_count": 6,
   "metadata": {},
   "outputs": [
    {
     "data": {
      "text/plain": [
       "array([20., 20., 20., 20., 20., 20., 20., 20., 20., 20., 20., 20., 20.,\n",
       "       20., 20.])"
      ]
     },
     "execution_count": 6,
     "metadata": {},
     "output_type": "execute_result"
    }
   ],
   "source": [
    "data11=df7.iloc[2:17,4:5]\n",
    "#x3=data11[]\n",
    "x3=data11['Initial Possible Truck Size'].values\n",
    "x3"
   ]
  },
  {
   "cell_type": "code",
   "execution_count": 8,
   "metadata": {},
   "outputs": [
    {
     "data": {
      "text/plain": [
       "array([ 445.,  445., 5340., 5340., 5340.,  445.,  445.,  445.,  445.,\n",
       "        445.,  445.,  445.,  890.,  890.,  890.])"
      ]
     },
     "execution_count": 8,
     "metadata": {},
     "output_type": "execute_result"
    }
   ],
   "source": [
    "data12=df7.iloc[2:17,3:4]\n",
    "#data12\n",
    "x4=data12['L'].values\n",
    "x4"
   ]
  },
  {
   "cell_type": "code",
   "execution_count": 11,
   "metadata": {},
   "outputs": [
    {
     "data": {
      "text/plain": [
       "array([320., 320., 320., 320., 320., 320., 320., 320., 320., 320., 320.,\n",
       "       320., 320., 320., 320.])"
      ]
     },
     "execution_count": 11,
     "metadata": {},
     "output_type": "execute_result"
    }
   ],
   "source": [
    "data13=df7.iloc[2:17, 5:6]\n",
    "x5=data13['Possible Truck Size'].values\n",
    "x5"
   ]
  },
  {
   "cell_type": "code",
   "execution_count": 13,
   "metadata": {},
   "outputs": [],
   "source": [
    "px=x5/x3\n",
    "logpx=np.log(px)\n",
    "investment_cast=x4*logpx"
   ]
  },
  {
   "cell_type": "markdown",
   "metadata": {},
   "source": [
    "\n",
    "Equipment Cost = Truck Purchase Cost + Warehouse Purchase Cost Truck Purchase Cost = (8350.6 * ln(C) - 14542.5) * Number of days used / 7300"
   ]
  },
  {
   "cell_type": "code",
   "execution_count": 15,
   "metadata": {},
   "outputs": [
    {
     "data": {
      "text/plain": [
       "array([1.0289, 1.3505, 1.5916, 1.5916, 1.5916, 1.7588, 1.9453, 1.7203,\n",
       "       1.865 , 1.9293, 1.865 , 2.2186, 2.2026, 2.508 , 2.4598])"
      ]
     },
     "execution_count": 15,
     "metadata": {},
     "output_type": "execute_result"
    }
   ],
   "source": [
    "c={'maximum load capicity':[20,40,60,80,100,120,140,180,200,220,240,260,280,300,320]}\n",
    "maxload = pd.DataFrame(c) \n",
    "maxload1=maxload['maximum load capicity'].values\n",
    "lnc=np.log(maxload1)\n",
    "lnc\n",
    "purchase=df7.iloc[2:17, 7:8]\n",
    "purchase=purchase['Travel Time between Depot and each Warehouses [days]'].values.astype(float)\n",
    "purchase"
   ]
  },
  {
   "cell_type": "code",
   "execution_count": 17,
   "metadata": {},
   "outputs": [
    {
     "data": {
      "text/plain": [
       "array([ 1.47621243,  3.0084435 ,  4.28374424,  4.80751536,  5.21378381,\n",
       "        6.12831659,  7.12117815,  6.79207561,  7.5881559 ,  8.06012017,\n",
       "        7.97712194,  9.69270722,  9.80952774, 11.36759793, 11.33072881])"
      ]
     },
     "execution_count": 17,
     "metadata": {},
     "output_type": "execute_result"
    }
   ],
   "source": [
    "truck=(8350.6*lnc-14542.5)\n",
    "truck_purchase_cast=truck*purchase/7300\n",
    "truck_purchase_cast"
   ]
  },
  {
   "cell_type": "markdown",
   "metadata": {},
   "source": [
    "Warehouse Purchase Cost = 29.725 * T * Number of days used / 7300"
   ]
  },
  {
   "cell_type": "code",
   "execution_count": 21,
   "metadata": {},
   "outputs": [
    {
     "data": {
      "text/plain": [
       "array([100,  60,  20,  20,  20, 160,  60,  40,  40,  40,  40,  60,  20,\n",
       "        20,  20])"
      ]
     },
     "execution_count": 21,
     "metadata": {},
     "output_type": "execute_result"
    }
   ],
   "source": [
    "T1=df7.iloc[2:17,6:7]\n",
    "#T1 = T1.sort_values('Maximum Warehouse Size')\n",
    "T2=T1['Maximum Warehouse Size'].values.astype(int)\n",
    "T2"
   ]
  },
  {
   "cell_type": "code",
   "execution_count": 22,
   "metadata": {},
   "outputs": [
    {
     "data": {
      "text/plain": [
       "array([  80,   20,  -40,  -60,  -80,   40,  -80, -140, -160, -180, -200,\n",
       "       -200, -260, -280, -300])"
      ]
     },
     "execution_count": 22,
     "metadata": {},
     "output_type": "execute_result"
    }
   ],
   "source": [
    "T=np.subtract(T2,maxload1)\n",
    "T.astype(int)"
   ]
  },
  {
   "cell_type": "code",
   "execution_count": 24,
   "metadata": {},
   "outputs": [
    {
     "data": {
      "text/plain": [
       "array([2972.5, 1783.5,  594.5,  594.5,  594.5, 4756. , 1783.5, 1189. ,\n",
       "       1189. , 1189. , 1189. , 1783.5,  594.5,  594.5,  594.5])"
      ]
     },
     "execution_count": 24,
     "metadata": {},
     "output_type": "execute_result"
    }
   ],
   "source": [
    "Tc=T2*29.725\n",
    "Tc"
   ]
  },
  {
   "cell_type": "code",
   "execution_count": 26,
   "metadata": {},
   "outputs": [
    {
     "data": {
      "text/plain": [
       "array([0.41895962, 0.3299475 , 0.12961729, 0.12961729, 0.12961729,\n",
       "       1.14587025, 0.4752661 , 0.28019681, 0.30376507, 0.31423804,\n",
       "       0.30376507, 0.54203741, 0.17937612, 0.2042474 , 0.20032207])"
      ]
     },
     "execution_count": 26,
     "metadata": {},
     "output_type": "execute_result"
    }
   ],
   "source": [
    "warehouse_cast=Tc*purchase/7300\n",
    "warehouse_cast"
   ]
  },
  {
   "cell_type": "markdown",
   "metadata": {},
   "source": [
    "Equipment Cost = Truck Purchase Cost +Warehouse Purchase Cost"
   ]
  },
  {
   "cell_type": "code",
   "execution_count": 134,
   "metadata": {},
   "outputs": [
    {
     "data": {
      "text/plain": [
       "array([ 2.0627559 ,  3.338391  ,  5.19106525,  5.19636723,  5.60263567,\n",
       "        6.55801794,  8.07171036,  7.07227242,  7.89192097,  8.37435822,\n",
       "        8.280887  ,  9.87338635,  9.98890386, 11.57184533, 11.53105088])"
      ]
     },
     "execution_count": 134,
     "metadata": {},
     "output_type": "execute_result"
    }
   ],
   "source": [
    "equipment_cost=warehouse_cast+truck_purchase_cast\n",
    "equipment_cost"
   ]
  },
  {
   "cell_type": "markdown",
   "metadata": {},
   "source": [
    "Normalized Operating Cost = TruNormalized Operating Cost = Truck Operating Cost * Total Demand consumed in 7300 days / (Total Demand consumed in 7300 days + total stock of products at the end - total stock of products at the beginning) Truck Operating Cost = (1.67012 * ln(C) - 2.9885) * truck operation days + number of truck stops at depot or warehouse * 2ck Operating Cost * Total Demand consumed in 7300 days / (Total Demand consumed in 7300 days + total stock of products at the end - total stock of products at the beginning)"
   ]
  },
  {
   "cell_type": "code",
   "execution_count": 27,
   "metadata": {},
   "outputs": [
    {
     "data": {
      "text/plain": [
       "array([ 1,  2,  3,  4,  5,  6,  7,  8,  9, 10, 11, 12, 13, 14, 15],\n",
       "      dtype=int64)"
      ]
     },
     "execution_count": 27,
     "metadata": {},
     "output_type": "execute_result"
    }
   ],
   "source": [
    "#data4=pd.DataFrame(x)\n",
    "x={'trucks operation day':[1,2,3,4,5,6,7,8,9,10,11,12,13,14,15]}\n",
    "data4=pd.DataFrame(x)\n",
    "day=data4['trucks operation day'].values\n",
    "day"
   ]
  },
  {
   "cell_type": "code",
   "execution_count": 28,
   "metadata": {},
   "outputs": [
    {
     "data": {
      "text/plain": [
       "array([1, 2, 3, 4, 5, 5, 4, 3, 2, 1, 5, 4, 3, 2, 1], dtype=int64)"
      ]
     },
     "execution_count": 28,
     "metadata": {},
     "output_type": "execute_result"
    }
   ],
   "source": [
    "truck_stop={'trucks operation day':[1,2,3,4,5,5,4,3,2,1,5,4,3,2,1]}\n",
    "stop=pd.DataFrame(truck_stop)\n",
    "stop=stop['trucks operation day'].values\n",
    "stop"
   ]
  },
  {
   "cell_type": "markdown",
   "metadata": {},
   "source": [
    "Truck Operating Cost = (1.67012 * ln(C) - 2.9885) * <truck operation days>  + <number of truck stops at depot or warehouse> * 2\n",
    "\n",
    "C: Maximum load capacity of a truck (20 ~ 320, 20 increments)\n",
    "\n",
    "“truck operation days” is the actual days took that truck was moving. Loading/Unloading and parking time are not included."
   ]
  },
  {
   "cell_type": "code",
   "execution_count": 30,
   "metadata": {},
   "outputs": [
    {
     "data": {
      "text/plain": [
       "array([  6.04419715,  19.03422812,  34.64592066,  51.96012388,\n",
       "        70.54030247,  80.11497135,  78.96953764,  79.58105534,\n",
       "        76.1842354 ,  72.23406285, 129.46131825, 125.97011211,\n",
       "       122.02322143, 117.67502136, 112.96990045])"
      ]
     },
     "execution_count": 30,
     "metadata": {},
     "output_type": "execute_result"
    }
   ],
   "source": [
    "operating_cast=1.67012*lnc-2.9885\n",
    "truck_operating_cast=operating_cast*(day+stop*2)\n",
    "truck_operating_cast"
   ]
  },
  {
   "cell_type": "code",
   "execution_count": 33,
   "metadata": {},
   "outputs": [
    {
     "data": {
      "text/plain": [
       "array([8.83786574, 2.50921759, 2.18198392, 2.50921759, 4.26426383,\n",
       "       4.01372555, 3.01029416, 1.75632449, 1.50578621, 1.25396967,\n",
       "       1.50578621, 1.00343139, 1.50578621, 1.75632449, 1.50578621])"
      ]
     },
     "execution_count": 33,
     "metadata": {},
     "output_type": "execute_result"
    }
   ],
   "source": [
    "demand=df7.iloc[2:17,1:2]\n",
    "demand\n",
    "demand=demand['Demand'].values\n",
    "demand"
   ]
  },
  {
   "cell_type": "code",
   "execution_count": 34,
   "metadata": {},
   "outputs": [
    {
     "data": {
      "text/plain": [
       "array([20., 20., 20., 20., 20., 20., 20., 20., 20., 20., 20., 20., 20.,\n",
       "       20., 20.])"
      ]
     },
     "execution_count": 34,
     "metadata": {},
     "output_type": "execute_result"
    }
   ],
   "source": [
    "beg=df7.iloc[2:17,4:5]\n",
    "beg\n",
    "beg1=beg['Initial Possible Truck Size'].values\n",
    "beg1"
   ]
  },
  {
   "cell_type": "code",
   "execution_count": 36,
   "metadata": {},
   "outputs": [],
   "source": [
    "end=df7.iloc[2:17,5:6]\n",
    "end=end['Possible Truck Size'].values"
   ]
  },
  {
   "cell_type": "code",
   "execution_count": 37,
   "metadata": {},
   "outputs": [],
   "source": [
    "new=end-beg1"
   ]
  },
  {
   "cell_type": "code",
   "execution_count": 38,
   "metadata": {},
   "outputs": [
    {
     "data": {
      "text/plain": [
       "array([ 1235.87011736,  1237.29825526, 14810.28730821, 14810.99190209,\n",
       "       14811.95580024,  1242.13388202,  1242.18295853,  1241.33744264,\n",
       "        1242.07438319,  1242.4770139 ,  1242.7294267 ,  1244.45666265,\n",
       "        2478.20227746,  2479.86071679,  2479.6992102 ])"
      ]
     },
     "execution_count": 38,
     "metadata": {},
     "output_type": "execute_result"
    }
   ],
   "source": [
    "demand1=demand+new\n",
    "demand2=demand/demand1\n",
    "normalised_cast=truck_operating_cast*demand2\n",
    "normalised_cast\n",
    "totalcast=normalised_cast+warehouse_cast+truck_purchase_cast+investment_cast\n",
    "totalcast"
   ]
  },
  {
   "cell_type": "code",
   "execution_count": 132,
   "metadata": {},
   "outputs": [
    {
     "data": {
      "text/plain": [
       "array(['wh.1', 'wh.2', 'wh.3', 'wh.4', 'wh.5', 'wh.6', 'wh.7', 'wh.8',\n",
       "       'wh.9', 'wh.10', 'wh.11', 'wh.12', 'wh.13', 'wh.14', 'wh.15'],\n",
       "      dtype=object)"
      ]
     },
     "execution_count": 132,
     "metadata": {},
     "output_type": "execute_result"
    }
   ],
   "source": [
    "w=df7.iloc[2:17, 0:1]\n",
    "w1=w['Unnamed: 0'].values\n",
    "w1\n"
   ]
  },
  {
   "cell_type": "code",
   "execution_count": 160,
   "metadata": {},
   "outputs": [
    {
     "data": {
      "text/plain": [
       "array([0., 0., 0., 0., 0., 0., 0., 0., 0., 0., 0., 0., 0., 0., 0.])"
      ]
     },
     "execution_count": 160,
     "metadata": {},
     "output_type": "execute_result"
    }
   ],
   "source": [
    "w2=df7.iloc[2:17, 2:3]\n",
    "w2=w2['Demand Growth Rate'].values\n",
    "w2"
   ]
  },
  {
   "cell_type": "code",
   "execution_count": 162,
   "metadata": {},
   "outputs": [],
   "source": [
    "w3=df7['Unnamed: 0'].values\n",
    "w4=df7['Demand'].values\n",
    "w5=df7['Maximum Warehouse Size'].values\n",
    "import pandas \n",
    "df=pandas.DataFrame(data={\"Ware\":w3,\"Demand\":w4,\"Maximum Warehouse Size\":w5})\n",
    "df.to_csv(\"./dataset7_warehouse_input.csv\", sep=',',index=False)"
   ]
  },
  {
   "cell_type": "code",
   "execution_count": 163,
   "metadata": {},
   "outputs": [],
   "source": [
    "import pandas\n",
    "df = pandas.DataFrame(data={\"Warehouse\":w1,\"Demand Growth Rate\":w2,\"L\":x4,\"possible truck size\":x5,\"intial possible truck size\":x3,\"maximum loading capicity\":\n",
    "                            maxload1,\"number of days  used\":purchase,\"maximum warehouse size\":T2,\"truck operation day\":\n",
    "                            day,\"truck stopage\":stop,\"Demand\":demand,\n",
    "                            \"total stock of products at the end\":end,\n",
    "                            \"total stock of products at the begining\":beg1,\n",
    "                            \"Normalised Operating  Cost\": normalised_cast, \"Equipment cast\":equipment_cost,\"truck operating cast\": truck_operating_cast,\"truck  purchase cast\":truck_purchase_cast,\"Investment Cost\" : investment_cast,\n",
    "                            \"total cast(Equipment cost + Normalized Operating Cost + Investment Cost)\":totalcast})\n",
    "df.to_csv(\"./dataset7_solution.csv\", sep=',',index=False)"
   ]
  },
  {
   "cell_type": "markdown",
   "metadata": {},
   "source": [
    "# conclusion"
   ]
  },
  {
   "cell_type": "markdown",
   "metadata": {},
   "source": [
    "at last we computed all condition for above datasets and corresponding which we have find total cast and warehouse wh1, wh2,...., and also find truck purchase cast, investment cast , equipment cast, normalized cast, and also find minimum time interval between two stop of truck and also find time interval and demand of the truck with corresponding demand growth rate "
   ]
  },
  {
   "cell_type": "markdown",
   "metadata": {},
   "source": [
    "# loading dataset8"
   ]
  },
  {
   "cell_type": "markdown",
   "metadata": {},
   "source": [
    "\n",
    "now we calcuate all prescriped values in all datatsets"
   ]
  },
  {
   "cell_type": "code",
   "execution_count": 40,
   "metadata": {},
   "outputs": [],
   "source": [
    "df8=pd.read_csv(\"C:\\\\Users\\\\Shubham\\\\Desktop\\\\mini marathon challenge\\\\Dataset-8 - Dataset-8.csv\")"
   ]
  },
  {
   "cell_type": "code",
   "execution_count": 42,
   "metadata": {},
   "outputs": [
    {
     "data": {
      "text/html": [
       "<div>\n",
       "<style scoped>\n",
       "    .dataframe tbody tr th:only-of-type {\n",
       "        vertical-align: middle;\n",
       "    }\n",
       "\n",
       "    .dataframe tbody tr th {\n",
       "        vertical-align: top;\n",
       "    }\n",
       "\n",
       "    .dataframe thead th {\n",
       "        text-align: right;\n",
       "    }\n",
       "</style>\n",
       "<table border=\"1\" class=\"dataframe\">\n",
       "  <thead>\n",
       "    <tr style=\"text-align: right;\">\n",
       "      <th></th>\n",
       "      <th>Unnamed: 0</th>\n",
       "      <th>Demand</th>\n",
       "      <th>Demand Growth Rate</th>\n",
       "      <th>L</th>\n",
       "      <th>Initial Possible Truck Size</th>\n",
       "      <th>Possible Truck Size</th>\n",
       "      <th>Maximum Warehouse Size</th>\n",
       "      <th>Travel Time between Depot and each Warehouses [days]</th>\n",
       "      <th>Unnamed: 8</th>\n",
       "      <th>Unnamed: 9</th>\n",
       "      <th>...</th>\n",
       "      <th>Unnamed: 13</th>\n",
       "      <th>Unnamed: 14</th>\n",
       "      <th>Unnamed: 15</th>\n",
       "      <th>Unnamed: 16</th>\n",
       "      <th>Unnamed: 17</th>\n",
       "      <th>Unnamed: 18</th>\n",
       "      <th>Unnamed: 19</th>\n",
       "      <th>Unnamed: 20</th>\n",
       "      <th>Unnamed: 21</th>\n",
       "      <th>Unnamed: 22</th>\n",
       "    </tr>\n",
       "  </thead>\n",
       "  <tbody>\n",
       "    <tr>\n",
       "      <th>0</th>\n",
       "      <td>Depot/Warehouse Name</td>\n",
       "      <td>NaN</td>\n",
       "      <td>NaN</td>\n",
       "      <td>NaN</td>\n",
       "      <td>NaN</td>\n",
       "      <td>NaN</td>\n",
       "      <td>NaN</td>\n",
       "      <td>Depo</td>\n",
       "      <td>wh.1</td>\n",
       "      <td>wh.2</td>\n",
       "      <td>...</td>\n",
       "      <td>wh.6</td>\n",
       "      <td>wh.7</td>\n",
       "      <td>wh.8</td>\n",
       "      <td>wh.9</td>\n",
       "      <td>wh.10</td>\n",
       "      <td>wh.11</td>\n",
       "      <td>wh.12</td>\n",
       "      <td>wh.13</td>\n",
       "      <td>wh.14</td>\n",
       "      <td>wh.15</td>\n",
       "    </tr>\n",
       "    <tr>\n",
       "      <th>1</th>\n",
       "      <td>Depo</td>\n",
       "      <td>0.0</td>\n",
       "      <td>0.0</td>\n",
       "      <td>890.0</td>\n",
       "      <td>320.0</td>\n",
       "      <td>320.0</td>\n",
       "      <td>-</td>\n",
       "      <td>0</td>\n",
       "      <td>1.3987</td>\n",
       "      <td>1.8006</td>\n",
       "      <td>...</td>\n",
       "      <td>0.418</td>\n",
       "      <td>1.0772</td>\n",
       "      <td>1.045</td>\n",
       "      <td>1.1415</td>\n",
       "      <td>1.0289</td>\n",
       "      <td>1.2862</td>\n",
       "      <td>1.1736</td>\n",
       "      <td>0.7878</td>\n",
       "      <td>0.4823</td>\n",
       "      <td>1.045</td>\n",
       "    </tr>\n",
       "  </tbody>\n",
       "</table>\n",
       "<p>2 rows × 23 columns</p>\n",
       "</div>"
      ],
      "text/plain": [
       "             Unnamed: 0  Demand  Demand Growth Rate      L  \\\n",
       "0  Depot/Warehouse Name     NaN                 NaN    NaN   \n",
       "1                  Depo     0.0                 0.0  890.0   \n",
       "\n",
       "   Initial Possible Truck Size  Possible Truck Size Maximum Warehouse Size  \\\n",
       "0                          NaN                  NaN                    NaN   \n",
       "1                        320.0                320.0                      -   \n",
       "\n",
       "  Travel Time between Depot and each Warehouses [days] Unnamed: 8 Unnamed: 9  \\\n",
       "0                                               Depo         wh.1       wh.2   \n",
       "1                                                  0       1.3987     1.8006   \n",
       "\n",
       "   ... Unnamed: 13 Unnamed: 14 Unnamed: 15 Unnamed: 16 Unnamed: 17  \\\n",
       "0  ...        wh.6        wh.7        wh.8        wh.9       wh.10   \n",
       "1  ...       0.418      1.0772       1.045      1.1415      1.0289   \n",
       "\n",
       "  Unnamed: 18 Unnamed: 19 Unnamed: 20 Unnamed: 21 Unnamed: 22  \n",
       "0       wh.11       wh.12       wh.13       wh.14       wh.15  \n",
       "1      1.2862      1.1736      0.7878      0.4823       1.045  \n",
       "\n",
       "[2 rows x 23 columns]"
      ]
     },
     "execution_count": 42,
     "metadata": {},
     "output_type": "execute_result"
    }
   ],
   "source": [
    "df8.head(2)"
   ]
  },
  {
   "cell_type": "code",
   "execution_count": 147,
   "metadata": {},
   "outputs": [
    {
     "data": {
      "text/html": [
       "<div>\n",
       "<style scoped>\n",
       "    .dataframe tbody tr th:only-of-type {\n",
       "        vertical-align: middle;\n",
       "    }\n",
       "\n",
       "    .dataframe tbody tr th {\n",
       "        vertical-align: top;\n",
       "    }\n",
       "\n",
       "    .dataframe thead th {\n",
       "        text-align: right;\n",
       "    }\n",
       "</style>\n",
       "<table border=\"1\" class=\"dataframe\">\n",
       "  <thead>\n",
       "    <tr style=\"text-align: right;\">\n",
       "      <th></th>\n",
       "      <th>Demand</th>\n",
       "      <th>Demand Growth Rate</th>\n",
       "      <th>L</th>\n",
       "      <th>Initial Possible Truck Size</th>\n",
       "      <th>Possible Truck Size</th>\n",
       "    </tr>\n",
       "  </thead>\n",
       "  <tbody>\n",
       "    <tr>\n",
       "      <th>count</th>\n",
       "      <td>16.000000</td>\n",
       "      <td>16.0</td>\n",
       "      <td>16.000000</td>\n",
       "      <td>16.00</td>\n",
       "      <td>16.0</td>\n",
       "    </tr>\n",
       "    <tr>\n",
       "      <th>mean</th>\n",
       "      <td>3.728625</td>\n",
       "      <td>0.0</td>\n",
       "      <td>1974.687500</td>\n",
       "      <td>38.75</td>\n",
       "      <td>320.0</td>\n",
       "    </tr>\n",
       "    <tr>\n",
       "      <th>std</th>\n",
       "      <td>1.416280</td>\n",
       "      <td>0.0</td>\n",
       "      <td>2332.008054</td>\n",
       "      <td>75.00</td>\n",
       "      <td>0.0</td>\n",
       "    </tr>\n",
       "    <tr>\n",
       "      <th>min</th>\n",
       "      <td>0.000000</td>\n",
       "      <td>0.0</td>\n",
       "      <td>890.000000</td>\n",
       "      <td>20.00</td>\n",
       "      <td>320.0</td>\n",
       "    </tr>\n",
       "    <tr>\n",
       "      <th>25%</th>\n",
       "      <td>3.102000</td>\n",
       "      <td>0.0</td>\n",
       "      <td>890.000000</td>\n",
       "      <td>20.00</td>\n",
       "      <td>320.0</td>\n",
       "    </tr>\n",
       "    <tr>\n",
       "      <th>50%</th>\n",
       "      <td>4.344500</td>\n",
       "      <td>0.0</td>\n",
       "      <td>890.000000</td>\n",
       "      <td>20.00</td>\n",
       "      <td>320.0</td>\n",
       "    </tr>\n",
       "    <tr>\n",
       "      <th>75%</th>\n",
       "      <td>4.526500</td>\n",
       "      <td>0.0</td>\n",
       "      <td>890.000000</td>\n",
       "      <td>20.00</td>\n",
       "      <td>320.0</td>\n",
       "    </tr>\n",
       "    <tr>\n",
       "      <th>max</th>\n",
       "      <td>5.425000</td>\n",
       "      <td>0.0</td>\n",
       "      <td>6675.000000</td>\n",
       "      <td>320.00</td>\n",
       "      <td>320.0</td>\n",
       "    </tr>\n",
       "  </tbody>\n",
       "</table>\n",
       "</div>"
      ],
      "text/plain": [
       "          Demand  Demand Growth Rate            L  \\\n",
       "count  16.000000                16.0    16.000000   \n",
       "mean    3.728625                 0.0  1974.687500   \n",
       "std     1.416280                 0.0  2332.008054   \n",
       "min     0.000000                 0.0   890.000000   \n",
       "25%     3.102000                 0.0   890.000000   \n",
       "50%     4.344500                 0.0   890.000000   \n",
       "75%     4.526500                 0.0   890.000000   \n",
       "max     5.425000                 0.0  6675.000000   \n",
       "\n",
       "       Initial Possible Truck Size  Possible Truck Size  \n",
       "count                        16.00                 16.0  \n",
       "mean                         38.75                320.0  \n",
       "std                          75.00                  0.0  \n",
       "min                          20.00                320.0  \n",
       "25%                          20.00                320.0  \n",
       "50%                          20.00                320.0  \n",
       "75%                          20.00                320.0  \n",
       "max                         320.00                320.0  "
      ]
     },
     "execution_count": 147,
     "metadata": {},
     "output_type": "execute_result"
    }
   ],
   "source": [
    "df8.describe()"
   ]
  },
  {
   "cell_type": "markdown",
   "metadata": {},
   "source": [
    "drawing networkx graph"
   ]
  },
  {
   "cell_type": "code",
   "execution_count": 143,
   "metadata": {},
   "outputs": [],
   "source": [
    "G8= nx.from_pandas_edgelist(df8 ,'Unnamed: 0' ,  'Demand','Travel Time between Depot and each Warehouses [days]')"
   ]
  },
  {
   "cell_type": "code",
   "execution_count": 144,
   "metadata": {},
   "outputs": [
    {
     "data": {
      "image/png": "[encoded data removed]",
      "text/plain": [
       "<Figure size 432x288 with 1 Axes>"
      ]
     },
     "metadata": {},
     "output_type": "display_data"
    }
   ],
   "source": [
    "nx.draw(G8, with_labels=True)"
   ]
  },
  {
   "cell_type": "code",
   "execution_count": 46,
   "metadata": {},
   "outputs": [
    {
     "data": {
      "text/plain": [
       "array([20., 20., 20., 20., 20., 20., 20., 20., 20., 20., 20., 20., 20.,\n",
       "       20., 20.])"
      ]
     },
     "execution_count": 46,
     "metadata": {},
     "output_type": "execute_result"
    }
   ],
   "source": [
    "data11=df8.iloc[2:17,4:5]\n",
    "#x3=data11[]\n",
    "x3=data11['Initial Possible Truck Size'].values\n",
    "x3"
   ]
  },
  {
   "cell_type": "code",
   "execution_count": 48,
   "metadata": {},
   "outputs": [
    {
     "data": {
      "text/plain": [
       "array([ 890.,  890.,  890.,  890.,  890.,  890., 6675., 6675., 6675.,\n",
       "        890.,  890.,  890.,  890.,  890.,  890.])"
      ]
     },
     "execution_count": 48,
     "metadata": {},
     "output_type": "execute_result"
    }
   ],
   "source": [
    "data12=df8.iloc[2:17,3:4]\n",
    "#data12\n",
    "x4=data12['L'].values\n",
    "x4"
   ]
  },
  {
   "cell_type": "code",
   "execution_count": 49,
   "metadata": {},
   "outputs": [
    {
     "data": {
      "text/plain": [
       "array([320., 320., 320., 320., 320., 320., 320., 320., 320., 320., 320.,\n",
       "       320., 320., 320., 320.])"
      ]
     },
     "execution_count": 49,
     "metadata": {},
     "output_type": "execute_result"
    }
   ],
   "source": [
    "data13=df8.iloc[2:17, 5:6]\n",
    "x5=data13['Possible Truck Size'].values\n",
    "x5"
   ]
  },
  {
   "cell_type": "code",
   "execution_count": 50,
   "metadata": {},
   "outputs": [],
   "source": [
    "px=x5/x3\n",
    "logpx=np.log(px)\n",
    "investment_cast=x4*logpx"
   ]
  },
  {
   "cell_type": "code",
   "execution_count": 51,
   "metadata": {},
   "outputs": [
    {
     "data": {
      "text/plain": [
       "array([ 2467.60396279,  2467.60396279,  2467.60396279,  2467.60396279,\n",
       "        2467.60396279,  2467.60396279, 18507.02972095, 18507.02972095,\n",
       "       18507.02972095,  2467.60396279,  2467.60396279,  2467.60396279,\n",
       "        2467.60396279,  2467.60396279,  2467.60396279])"
      ]
     },
     "execution_count": 51,
     "metadata": {},
     "output_type": "execute_result"
    }
   ],
   "source": [
    "investment_cast"
   ]
  },
  {
   "cell_type": "markdown",
   "metadata": {},
   "source": [
    "\n",
    "Equipment Cost = Truck Purchase Cost + Warehouse Purchase Cost\n",
    "Truck Purchase Cost = (8350.6 * ln(C) - 14542.5) * Number of days used / 730"
   ]
  },
  {
   "cell_type": "code",
   "execution_count": 52,
   "metadata": {},
   "outputs": [
    {
     "data": {
      "text/plain": [
       "array([2.99573227, 3.68887945, 4.09434456, 4.38202663, 4.60517019,\n",
       "       4.78749174, 4.94164242, 5.19295685, 5.29831737, 5.39362755,\n",
       "       5.48063892, 5.56068163, 5.6347896 , 5.70378247, 5.768321  ])"
      ]
     },
     "execution_count": 52,
     "metadata": {},
     "output_type": "execute_result"
    }
   ],
   "source": [
    "c={'maximum load capicity':[20,40,60,80,100,120,140,180,200,220,240,260,280,300,320]}\n",
    "maxload = pd.DataFrame(c) \n",
    "maxload1=maxload['maximum load capicity'].values\n",
    "lnc=np.log(maxload1)\n",
    "lnc"
   ]
  },
  {
   "cell_type": "code",
   "execution_count": 53,
   "metadata": {},
   "outputs": [
    {
     "data": {
      "text/plain": [
       "array([1.3987, 1.8006, 1.1897, 0.9325, 0.8039, 0.418 , 1.0772, 1.045 ,\n",
       "       1.1415, 1.0289, 1.2862, 1.1736, 0.7878, 0.4823, 1.045 ])"
      ]
     },
     "execution_count": 53,
     "metadata": {},
     "output_type": "execute_result"
    }
   ],
   "source": [
    "purchase=df8.iloc[2:17, 7:8]\n",
    "purchase=purchase['Travel Time between Depot and each Warehouses [days]'].values.astype(float)\n",
    "purchase"
   ]
  },
  {
   "cell_type": "code",
   "execution_count": 54,
   "metadata": {},
   "outputs": [],
   "source": [
    "truck=(8350.6*lnc-14542.5)"
   ]
  },
  {
   "cell_type": "code",
   "execution_count": 55,
   "metadata": {},
   "outputs": [
    {
     "data": {
      "text/plain": [
       "array([2.00678232, 4.01110949, 3.2020423 , 2.81666755, 2.63342599,\n",
       "       1.45646824, 3.94331625, 4.1258612 , 4.64443966, 4.2984801 ,\n",
       "       5.50143391, 5.12726999, 3.50855623, 2.18604166, 4.8136481 ])"
      ]
     },
     "execution_count": 55,
     "metadata": {},
     "output_type": "execute_result"
    }
   ],
   "source": [
    "truck_purchase_cast=truck*purchase/7300\n",
    "truck_purchase_cast"
   ]
  },
  {
   "cell_type": "markdown",
   "metadata": {},
   "source": [
    "Warehouse Purchase Cost = 29.725 * T * Number of days used / 7300"
   ]
  },
  {
   "cell_type": "code",
   "execution_count": 56,
   "metadata": {},
   "outputs": [
    {
     "data": {
      "text/plain": [
       "array([320, 320, 320, 320, 320, 320, 320, 320, 320, 320, 320, 320, 320,\n",
       "       320, 320])"
      ]
     },
     "execution_count": 56,
     "metadata": {},
     "output_type": "execute_result"
    }
   ],
   "source": [
    "T1=df8.iloc[2:17, 6:7]\n",
    "#T1 = T1.sort_values('Maximum Warehouse Size')\n",
    "T2=T1['Maximum Warehouse Size'].values.astype(int)\n",
    "T2"
   ]
  },
  {
   "cell_type": "code",
   "execution_count": 57,
   "metadata": {},
   "outputs": [
    {
     "data": {
      "text/plain": [
       "array([ 20,  40,  60,  80, 100, 120, 140, 180, 200, 220, 240, 260, 280,\n",
       "       300, 320], dtype=int64)"
      ]
     },
     "execution_count": 57,
     "metadata": {},
     "output_type": "execute_result"
    }
   ],
   "source": [
    "maxload1"
   ]
  },
  {
   "cell_type": "code",
   "execution_count": 58,
   "metadata": {},
   "outputs": [
    {
     "data": {
      "text/plain": [
       "array([300, 280, 260, 240, 220, 200, 180, 140, 120, 100,  80,  60,  40,\n",
       "        20,   0])"
      ]
     },
     "execution_count": 58,
     "metadata": {},
     "output_type": "execute_result"
    }
   ],
   "source": [
    "T=np.subtract(T2,maxload1)\n",
    "T.astype(int)"
   ]
  },
  {
   "cell_type": "code",
   "execution_count": 60,
   "metadata": {},
   "outputs": [
    {
     "data": {
      "text/plain": [
       "array([8917.5, 8323. , 7728.5, 7134. , 6539.5, 5945. , 5350.5, 4161.5,\n",
       "       3567. , 2972.5, 2378. , 1783.5, 1189. ,  594.5,    0. ])"
      ]
     },
     "execution_count": 60,
     "metadata": {},
     "output_type": "execute_result"
    }
   ],
   "source": [
    "Tc=T*29.725\n",
    "Tc"
   ]
  },
  {
   "cell_type": "code",
   "execution_count": 61,
   "metadata": {},
   "outputs": [
    {
     "data": {
      "text/plain": [
       "array([1.70861743, 2.05293066, 1.25953376, 0.91129521, 0.72015124,\n",
       "       0.34041233, 0.78952858, 0.59572158, 0.5577713 , 0.41895962,\n",
       "       0.41898405, 0.28672816, 0.12831427, 0.03927772, 0.        ])"
      ]
     },
     "execution_count": 61,
     "metadata": {},
     "output_type": "execute_result"
    }
   ],
   "source": [
    "warehouse_cast=Tc*purchase/7300\n",
    "warehouse_cast"
   ]
  },
  {
   "cell_type": "code",
   "execution_count": 62,
   "metadata": {},
   "outputs": [
    {
     "data": {
      "text/plain": [
       "array([3.71539975, 6.06404015, 4.46157606, 3.72796276, 3.35357723,\n",
       "       1.79688057, 4.73284483, 4.72158277, 5.20221096, 4.71743972,\n",
       "       5.92041796, 5.41399815, 3.6368705 , 2.22531938, 4.8136481 ])"
      ]
     },
     "execution_count": 62,
     "metadata": {},
     "output_type": "execute_result"
    }
   ],
   "source": [
    "equipment_cost=warehouse_cast+truck_purchase_cast\n",
    "equipment_cost"
   ]
  },
  {
   "cell_type": "markdown",
   "metadata": {},
   "source": [
    "Normalized Operating Cost = Truck Operating Cost * Total Demand consumed in 7300 days / (Total Demand consumed in 7300 days + total stock of products at the end - total stock of products at the beginning)\n",
    "Truck Operating Cost = (1.67012 * ln(C) - 2.9885) * truck operation days + number of truck stops at depot or warehouse * 2"
   ]
  },
  {
   "cell_type": "code",
   "execution_count": 63,
   "metadata": {},
   "outputs": [
    {
     "data": {
      "text/plain": [
       "array([ 1,  2,  3,  4,  5,  6,  7,  8,  9, 10, 11, 12, 13, 14, 15],\n",
       "      dtype=int64)"
      ]
     },
     "execution_count": 63,
     "metadata": {},
     "output_type": "execute_result"
    }
   ],
   "source": [
    "data4=pd.DataFrame(x)\n",
    "x={'trucks operation day':[1,2,3,4,5,6,7,8,9,10,11,12,13,14,15]}\n",
    "day=data4['trucks operation day'].values\n",
    "day"
   ]
  },
  {
   "cell_type": "code",
   "execution_count": 64,
   "metadata": {},
   "outputs": [
    {
     "data": {
      "text/plain": [
       "array([1, 2, 3, 4, 5, 5, 4, 3, 2, 1, 5, 4, 3, 2, 1], dtype=int64)"
      ]
     },
     "execution_count": 64,
     "metadata": {},
     "output_type": "execute_result"
    }
   ],
   "source": [
    "truck_stop={'trucks operation day':[1,2,3,4,5,5,4,3,2,1,5,4,3,2,1]}\n",
    "stop=pd.DataFrame(truck_stop)\n",
    "stop=stop['trucks operation day'].values\n",
    "stop"
   ]
  },
  {
   "cell_type": "markdown",
   "metadata": {},
   "source": [
    "Truck Operating Cost = (1.67012 * ln(C) - 2.9885) * <truck operation days>  + <number of truck stops at depot or warehouse> * 2\n",
    "\n",
    "C: Maximum load capacity of a truck (20 ~ 320, 20 increments)\n",
    "\n",
    "“truck operation days” is the actual days took that truck was moving. Loading/Unloading and parking time are not included."
   ]
  },
  {
   "cell_type": "code",
   "execution_count": 65,
   "metadata": {},
   "outputs": [
    {
     "data": {
      "text/plain": [
       "array([  6.04419715,  19.03422812,  34.64592066,  51.96012388,\n",
       "        70.54030247,  80.11497135,  78.96953764,  79.58105534,\n",
       "        76.1842354 ,  72.23406285, 129.46131825, 125.97011211,\n",
       "       122.02322143, 117.67502136, 112.96990045])"
      ]
     },
     "execution_count": 65,
     "metadata": {},
     "output_type": "execute_result"
    }
   ],
   "source": [
    "operating_cast=1.67012*lnc-2.9885\n",
    "truck_operating_cast=operating_cast*(day+stop*2)\n",
    "truck_operating_cast"
   ]
  },
  {
   "cell_type": "code",
   "execution_count": 67,
   "metadata": {},
   "outputs": [
    {
     "data": {
      "text/plain": [
       "array([4.051, 5.425, 4.83 , 4.404, 4.404, 4.476, 4.678, 4.339, 4.7  ,\n",
       "       1.27 , 3.024, 3.128, 3.85 , 4.35 , 2.729])"
      ]
     },
     "execution_count": 67,
     "metadata": {},
     "output_type": "execute_result"
    }
   ],
   "source": [
    "demand=df8.iloc[2:17,1:2]\n",
    "demand\n",
    "demand=demand['Demand'].values\n",
    "demand"
   ]
  },
  {
   "cell_type": "code",
   "execution_count": 69,
   "metadata": {},
   "outputs": [
    {
     "data": {
      "text/plain": [
       "array([20., 20., 20., 20., 20., 20., 20., 20., 20., 20., 20., 20., 20.,\n",
       "       20., 20.])"
      ]
     },
     "execution_count": 69,
     "metadata": {},
     "output_type": "execute_result"
    }
   ],
   "source": [
    "beg=df8.iloc[2:17,4:5]\n",
    "beg\n",
    "beg1=beg['Initial Possible Truck Size'].values\n",
    "beg1"
   ]
  },
  {
   "cell_type": "code",
   "execution_count": 71,
   "metadata": {},
   "outputs": [],
   "source": [
    "end=df8.iloc[2:17,5:6]\n",
    "end=end['Possible Truck Size'].values"
   ]
  },
  {
   "cell_type": "code",
   "execution_count": 72,
   "metadata": {},
   "outputs": [],
   "source": [
    "new=end-beg1"
   ]
  },
  {
   "cell_type": "code",
   "execution_count": 73,
   "metadata": {},
   "outputs": [
    {
     "data": {
      "text/plain": [
       "array([ 2471.39989194,  2474.00609147,  2472.6144999 ,  2472.08366464,\n",
       "        2471.97808999,  2470.5785868 , 18512.97505732, 18512.88590099,\n",
       "       18513.40707437,  2472.62590432,  2474.81632801,  2474.31785574,\n",
       "        2472.78695606,  2471.51118243,  2473.43599651])"
      ]
     },
     "execution_count": 73,
     "metadata": {},
     "output_type": "execute_result"
    }
   ],
   "source": [
    "demand1=demand+new\n",
    "demand2=demand/demand1\n",
    "normalised_cast=truck_operating_cast*demand2\n",
    "normalised_cast\n",
    "totalcast=normalised_cast+warehouse_cast+truck_purchase_cast+investment_cast\n",
    "totalcast"
   ]
  },
  {
   "cell_type": "code",
   "execution_count": 129,
   "metadata": {},
   "outputs": [
    {
     "data": {
      "text/plain": [
       "array(['wh.1', 'wh.2', 'wh.3', 'wh.4', 'wh.5', 'wh.6', 'wh.7', 'wh.8',\n",
       "       'wh.9', 'wh.10', 'wh.11', 'wh.12', 'wh.13', 'wh.14', 'wh.15'],\n",
       "      dtype=object)"
      ]
     },
     "execution_count": 129,
     "metadata": {},
     "output_type": "execute_result"
    }
   ],
   "source": [
    "w=df9.iloc[2:17, 0:1]\n",
    "w1=w['Unnamed: 0'].values\n",
    "w1"
   ]
  },
  {
   "cell_type": "code",
   "execution_count": null,
   "metadata": {},
   "outputs": [],
   "source": [
    "w2=df8.iloc[2:17, 2:3]\n",
    "w2=w2['Demand Growth Rate'].values\n",
    "w2"
   ]
  },
  {
   "cell_type": "code",
   "execution_count": 164,
   "metadata": {},
   "outputs": [],
   "source": [
    "w3=df8['Unnamed: 0'].values\n",
    "w4=df8['Demand'].values\n",
    "w5=df8['Maximum Warehouse Size'].values\n",
    "import pandas \n",
    "df=pandas.DataFrame(data={\"Ware\":w3,\"Demand\":w4,\"Maximum Warehouse Size\":w5})\n",
    "df.to_csv(\"./dataset8_warehouse_input.csv\", sep=',',index=False)"
   ]
  },
  {
   "cell_type": "code",
   "execution_count": 168,
   "metadata": {},
   "outputs": [],
   "source": [
    "import pandas\n",
    "df = pandas.DataFrame(data={\"WareHouse\":w1,\"Demand Growth Rate\":w2,\"L\":x4,\"possible truck size\":x5,\"intial possible truck size\":x3,\"maximum loading capicity\":\n",
    "                            maxload1,\"number of days  used\":purchase,\"maximum warehouse size\":T2,\"truck operation day\":\n",
    "                            day,\"truck stopage\":stop,\"Demand\":demand,\n",
    "                            \"total stock of products at the end\":end,\n",
    "                            \"total stock of products at the begining\":beg1,\n",
    "                            \"Normalised Operating  Cost\": normalised_cast,\"Equipment cost\":equipment_cost, \"truck operating cast\": truck_operating_cast,\"truck  purchase cast\":truck_purchase_cast,\"Investment Cost\" : investment_cast,\n",
    "                            \"total cast(Equipment cost + Normalized Operating Cost + Investment Cost)\":totalcast})\n",
    "df.to_csv(\"./dataset8_solution.csv\", sep=',',index=False)"
   ]
  },
  {
   "cell_type": "markdown",
   "metadata": {},
   "source": [
    "# conclusion"
   ]
  },
  {
   "cell_type": "markdown",
   "metadata": {},
   "source": [
    "at last we computed all condition for above datasets and corresponding which we have find total cast and warehouse wh1, wh2,...., and also find truck purchase cast, investment cast , equipment cast, normalized cast, and also find minimum time interval between two stop of truck and also find time interval and demand of the truck with corresponding demand growth rate "
   ]
  },
  {
   "cell_type": "markdown",
   "metadata": {},
   "source": [
    "# for last datasets dataset 9"
   ]
  },
  {
   "cell_type": "code",
   "execution_count": 75,
   "metadata": {},
   "outputs": [],
   "source": [
    "df9=pd.read_csv(\"C:\\\\Users\\\\Shubham\\\\Desktop\\\\mini marathon challenge\\\\Dataset-9 - Dataset-9.csv\")"
   ]
  },
  {
   "cell_type": "code",
   "execution_count": 76,
   "metadata": {},
   "outputs": [
    {
     "data": {
      "text/html": [
       "<div>\n",
       "<style scoped>\n",
       "    .dataframe tbody tr th:only-of-type {\n",
       "        vertical-align: middle;\n",
       "    }\n",
       "\n",
       "    .dataframe tbody tr th {\n",
       "        vertical-align: top;\n",
       "    }\n",
       "\n",
       "    .dataframe thead th {\n",
       "        text-align: right;\n",
       "    }\n",
       "</style>\n",
       "<table border=\"1\" class=\"dataframe\">\n",
       "  <thead>\n",
       "    <tr style=\"text-align: right;\">\n",
       "      <th></th>\n",
       "      <th>Unnamed: 0</th>\n",
       "      <th>Demand</th>\n",
       "      <th>Demand Growth Rate</th>\n",
       "      <th>L</th>\n",
       "      <th>Initial Possible Truck Size</th>\n",
       "      <th>Possible Truck Size</th>\n",
       "      <th>Maximum Warehouse Size</th>\n",
       "      <th>Travel Time between Depot and each Warehouses [days]</th>\n",
       "      <th>Unnamed: 8</th>\n",
       "      <th>Unnamed: 9</th>\n",
       "      <th>...</th>\n",
       "      <th>Unnamed: 13</th>\n",
       "      <th>Unnamed: 14</th>\n",
       "      <th>Unnamed: 15</th>\n",
       "      <th>Unnamed: 16</th>\n",
       "      <th>Unnamed: 17</th>\n",
       "      <th>Unnamed: 18</th>\n",
       "      <th>Unnamed: 19</th>\n",
       "      <th>Unnamed: 20</th>\n",
       "      <th>Unnamed: 21</th>\n",
       "      <th>Unnamed: 22</th>\n",
       "    </tr>\n",
       "  </thead>\n",
       "  <tbody>\n",
       "    <tr>\n",
       "      <th>0</th>\n",
       "      <td>Depot/Warehouse Name</td>\n",
       "      <td>NaN</td>\n",
       "      <td>NaN</td>\n",
       "      <td>NaN</td>\n",
       "      <td>NaN</td>\n",
       "      <td>NaN</td>\n",
       "      <td>NaN</td>\n",
       "      <td>Depo</td>\n",
       "      <td>wh.1</td>\n",
       "      <td>wh.2</td>\n",
       "      <td>...</td>\n",
       "      <td>wh.6</td>\n",
       "      <td>wh.7</td>\n",
       "      <td>wh.8</td>\n",
       "      <td>wh.9</td>\n",
       "      <td>wh.10</td>\n",
       "      <td>wh.11</td>\n",
       "      <td>wh.12</td>\n",
       "      <td>wh.13</td>\n",
       "      <td>wh.14</td>\n",
       "      <td>wh.15</td>\n",
       "    </tr>\n",
       "    <tr>\n",
       "      <th>1</th>\n",
       "      <td>Depo</td>\n",
       "      <td>0.000000</td>\n",
       "      <td>0.0041</td>\n",
       "      <td>445.0</td>\n",
       "      <td>320.0</td>\n",
       "      <td>320.0</td>\n",
       "      <td>-</td>\n",
       "      <td>0</td>\n",
       "      <td>1.0289</td>\n",
       "      <td>1.3505</td>\n",
       "      <td>...</td>\n",
       "      <td>1.7588</td>\n",
       "      <td>1.9453</td>\n",
       "      <td>1.7203</td>\n",
       "      <td>1.865</td>\n",
       "      <td>1.9293</td>\n",
       "      <td>1.865</td>\n",
       "      <td>2.2186</td>\n",
       "      <td>2.2026</td>\n",
       "      <td>2.508</td>\n",
       "      <td>2.4598</td>\n",
       "    </tr>\n",
       "    <tr>\n",
       "      <th>2</th>\n",
       "      <td>wh.1</td>\n",
       "      <td>4.028745</td>\n",
       "      <td>0.0041</td>\n",
       "      <td>445.0</td>\n",
       "      <td>20.0</td>\n",
       "      <td>320.0</td>\n",
       "      <td>140</td>\n",
       "      <td>1.0289</td>\n",
       "      <td>0</td>\n",
       "      <td>0.3215</td>\n",
       "      <td>...</td>\n",
       "      <td>0.7299</td>\n",
       "      <td>0.9164</td>\n",
       "      <td>0.6913</td>\n",
       "      <td>0.836</td>\n",
       "      <td>0.9003</td>\n",
       "      <td>0.836</td>\n",
       "      <td>1.1897</td>\n",
       "      <td>1.1736</td>\n",
       "      <td>1.4791</td>\n",
       "      <td>1.4309</td>\n",
       "    </tr>\n",
       "  </tbody>\n",
       "</table>\n",
       "<p>3 rows × 23 columns</p>\n",
       "</div>"
      ],
      "text/plain": [
       "             Unnamed: 0    Demand  Demand Growth Rate      L  \\\n",
       "0  Depot/Warehouse Name       NaN                 NaN    NaN   \n",
       "1                  Depo  0.000000              0.0041  445.0   \n",
       "2                  wh.1  4.028745              0.0041  445.0   \n",
       "\n",
       "   Initial Possible Truck Size  Possible Truck Size Maximum Warehouse Size  \\\n",
       "0                          NaN                  NaN                    NaN   \n",
       "1                        320.0                320.0                      -   \n",
       "2                         20.0                320.0                    140   \n",
       "\n",
       "  Travel Time between Depot and each Warehouses [days] Unnamed: 8 Unnamed: 9  \\\n",
       "0                                               Depo         wh.1       wh.2   \n",
       "1                                                  0       1.0289     1.3505   \n",
       "2                                             1.0289            0     0.3215   \n",
       "\n",
       "   ... Unnamed: 13 Unnamed: 14 Unnamed: 15 Unnamed: 16 Unnamed: 17  \\\n",
       "0  ...        wh.6        wh.7        wh.8        wh.9       wh.10   \n",
       "1  ...      1.7588      1.9453      1.7203       1.865      1.9293   \n",
       "2  ...      0.7299      0.9164      0.6913       0.836      0.9003   \n",
       "\n",
       "  Unnamed: 18 Unnamed: 19 Unnamed: 20 Unnamed: 21 Unnamed: 22  \n",
       "0       wh.11       wh.12       wh.13       wh.14       wh.15  \n",
       "1       1.865      2.2186      2.2026       2.508      2.4598  \n",
       "2       0.836      1.1897      1.1736      1.4791      1.4309  \n",
       "\n",
       "[3 rows x 23 columns]"
      ]
     },
     "execution_count": 76,
     "metadata": {},
     "output_type": "execute_result"
    }
   ],
   "source": [
    "df9.head(3)"
   ]
  },
  {
   "cell_type": "code",
   "execution_count": 146,
   "metadata": {},
   "outputs": [
    {
     "data": {
      "text/html": [
       "<div>\n",
       "<style scoped>\n",
       "    .dataframe tbody tr th:only-of-type {\n",
       "        vertical-align: middle;\n",
       "    }\n",
       "\n",
       "    .dataframe tbody tr th {\n",
       "        vertical-align: top;\n",
       "    }\n",
       "\n",
       "    .dataframe thead th {\n",
       "        text-align: right;\n",
       "    }\n",
       "</style>\n",
       "<table border=\"1\" class=\"dataframe\">\n",
       "  <thead>\n",
       "    <tr style=\"text-align: right;\">\n",
       "      <th></th>\n",
       "      <th>Demand</th>\n",
       "      <th>Demand Growth Rate</th>\n",
       "      <th>L</th>\n",
       "      <th>Initial Possible Truck Size</th>\n",
       "      <th>Possible Truck Size</th>\n",
       "    </tr>\n",
       "  </thead>\n",
       "  <tbody>\n",
       "    <tr>\n",
       "      <th>count</th>\n",
       "      <td>16.000000</td>\n",
       "      <td>16.0000</td>\n",
       "      <td>16.00000</td>\n",
       "      <td>16.00</td>\n",
       "      <td>16.0</td>\n",
       "    </tr>\n",
       "    <tr>\n",
       "      <th>mean</th>\n",
       "      <td>1.223803</td>\n",
       "      <td>0.0041</td>\n",
       "      <td>1446.25000</td>\n",
       "      <td>38.75</td>\n",
       "      <td>320.0</td>\n",
       "    </tr>\n",
       "    <tr>\n",
       "      <th>std</th>\n",
       "      <td>1.003957</td>\n",
       "      <td>0.0000</td>\n",
       "      <td>1791.09045</td>\n",
       "      <td>75.00</td>\n",
       "      <td>0.0</td>\n",
       "    </tr>\n",
       "    <tr>\n",
       "      <th>min</th>\n",
       "      <td>0.000000</td>\n",
       "      <td>0.0041</td>\n",
       "      <td>445.00000</td>\n",
       "      <td>20.00</td>\n",
       "      <td>320.0</td>\n",
       "    </tr>\n",
       "    <tr>\n",
       "      <th>25%</th>\n",
       "      <td>0.686413</td>\n",
       "      <td>0.0041</td>\n",
       "      <td>445.00000</td>\n",
       "      <td>20.00</td>\n",
       "      <td>320.0</td>\n",
       "    </tr>\n",
       "    <tr>\n",
       "      <th>50%</th>\n",
       "      <td>0.800621</td>\n",
       "      <td>0.0041</td>\n",
       "      <td>445.00000</td>\n",
       "      <td>20.00</td>\n",
       "      <td>320.0</td>\n",
       "    </tr>\n",
       "    <tr>\n",
       "      <th>75%</th>\n",
       "      <td>1.486597</td>\n",
       "      <td>0.0041</td>\n",
       "      <td>1446.25000</td>\n",
       "      <td>20.00</td>\n",
       "      <td>320.0</td>\n",
       "    </tr>\n",
       "    <tr>\n",
       "      <th>max</th>\n",
       "      <td>4.028745</td>\n",
       "      <td>0.0041</td>\n",
       "      <td>4450.00000</td>\n",
       "      <td>320.00</td>\n",
       "      <td>320.0</td>\n",
       "    </tr>\n",
       "  </tbody>\n",
       "</table>\n",
       "</div>"
      ],
      "text/plain": [
       "          Demand  Demand Growth Rate           L  Initial Possible Truck Size  \\\n",
       "count  16.000000             16.0000    16.00000                        16.00   \n",
       "mean    1.223803              0.0041  1446.25000                        38.75   \n",
       "std     1.003957              0.0000  1791.09045                        75.00   \n",
       "min     0.000000              0.0041   445.00000                        20.00   \n",
       "25%     0.686413              0.0041   445.00000                        20.00   \n",
       "50%     0.800621              0.0041   445.00000                        20.00   \n",
       "75%     1.486597              0.0041  1446.25000                        20.00   \n",
       "max     4.028745              0.0041  4450.00000                       320.00   \n",
       "\n",
       "       Possible Truck Size  \n",
       "count                 16.0  \n",
       "mean                 320.0  \n",
       "std                    0.0  \n",
       "min                  320.0  \n",
       "25%                  320.0  \n",
       "50%                  320.0  \n",
       "75%                  320.0  \n",
       "max                  320.0  "
      ]
     },
     "execution_count": 146,
     "metadata": {},
     "output_type": "execute_result"
    }
   ],
   "source": [
    "df9.describe()"
   ]
  },
  {
   "cell_type": "markdown",
   "metadata": {},
   "source": [
    "Drawing networkx graph"
   ]
  },
  {
   "cell_type": "code",
   "execution_count": 145,
   "metadata": {},
   "outputs": [
    {
     "data": {
      "image/png": "[encoded data removed]",
      "text/plain": [
       "<Figure size 432x288 with 1 Axes>"
      ]
     },
     "metadata": {},
     "output_type": "display_data"
    }
   ],
   "source": [
    "G9= nx.from_pandas_edgelist(df9 ,'Unnamed: 0' ,  'Demand','Travel Time between Depot and each Warehouses [days]')\n",
    "nx.draw(G9, with_labels=True)"
   ]
  },
  {
   "cell_type": "markdown",
   "metadata": {},
   "source": [
    "now the calculation will be done along columns and rows of provided formula"
   ]
  },
  {
   "cell_type": "code",
   "execution_count": 79,
   "metadata": {},
   "outputs": [
    {
     "data": {
      "text/plain": [
       "array([20., 20., 20., 20., 20., 20., 20., 20., 20., 20., 20., 20., 20.,\n",
       "       20., 20.])"
      ]
     },
     "execution_count": 79,
     "metadata": {},
     "output_type": "execute_result"
    }
   ],
   "source": [
    "data11=df9.iloc[2:17,4:5]\n",
    "#x3=data11[]\n",
    "x3=data11['Initial Possible Truck Size'].values\n",
    "x3"
   ]
  },
  {
   "cell_type": "code",
   "execution_count": 81,
   "metadata": {},
   "outputs": [
    {
     "data": {
      "text/plain": [
       "array([ 445.,  445.,  445.,  445.,  445.,  445.,  445.,  445.,  445.,\n",
       "        445.,  445., 4450., 4450., 4450., 4450.])"
      ]
     },
     "execution_count": 81,
     "metadata": {},
     "output_type": "execute_result"
    }
   ],
   "source": [
    "data12=df9.iloc[2:17,3:4]\n",
    "#data12\n",
    "x4=data12['L'].values\n",
    "x4"
   ]
  },
  {
   "cell_type": "code",
   "execution_count": 83,
   "metadata": {},
   "outputs": [
    {
     "data": {
      "text/plain": [
       "array([320., 320., 320., 320., 320., 320., 320., 320., 320., 320., 320.,\n",
       "       320., 320., 320., 320.])"
      ]
     },
     "execution_count": 83,
     "metadata": {},
     "output_type": "execute_result"
    }
   ],
   "source": [
    "data13=df9.iloc[2:17, 5:6]\n",
    "x5=data13['Possible Truck Size'].values\n",
    "x5"
   ]
  },
  {
   "cell_type": "code",
   "execution_count": 84,
   "metadata": {},
   "outputs": [],
   "source": [
    "px=x5/x3\n",
    "logpx=np.log(px)\n",
    "investment_cast=x4*logpx"
   ]
  },
  {
   "cell_type": "code",
   "execution_count": 85,
   "metadata": {},
   "outputs": [
    {
     "data": {
      "text/plain": [
       "array([ 1233.8019814 ,  1233.8019814 ,  1233.8019814 ,  1233.8019814 ,\n",
       "        1233.8019814 ,  1233.8019814 ,  1233.8019814 ,  1233.8019814 ,\n",
       "        1233.8019814 ,  1233.8019814 ,  1233.8019814 , 12338.01981397,\n",
       "       12338.01981397, 12338.01981397, 12338.01981397])"
      ]
     },
     "execution_count": 85,
     "metadata": {},
     "output_type": "execute_result"
    }
   ],
   "source": [
    "investment_cast"
   ]
  },
  {
   "cell_type": "markdown",
   "metadata": {},
   "source": [
    "\n",
    "Equipment Cost = Truck Purchase Cost + Warehouse Purchase Cost\n",
    "Truck Purchase Cost = (8350.6 * ln(C) - 14542.5) * Number of days used / 7300"
   ]
  },
  {
   "cell_type": "code",
   "execution_count": 86,
   "metadata": {},
   "outputs": [
    {
     "data": {
      "text/plain": [
       "array([2.99573227, 3.68887945, 4.09434456, 4.38202663, 4.60517019,\n",
       "       4.78749174, 4.94164242, 5.19295685, 5.29831737, 5.39362755,\n",
       "       5.48063892, 5.56068163, 5.6347896 , 5.70378247, 5.768321  ])"
      ]
     },
     "execution_count": 86,
     "metadata": {},
     "output_type": "execute_result"
    }
   ],
   "source": [
    "c={'maximum load capicity':[20,40,60,80,100,120,140,180,200,220,240,260,280,300,320]}\n",
    "maxload = pd.DataFrame(c) \n",
    "maxload1=maxload['maximum load capicity'].values\n",
    "lnc=np.log(maxload1)\n",
    "lnc"
   ]
  },
  {
   "cell_type": "code",
   "execution_count": 87,
   "metadata": {},
   "outputs": [
    {
     "data": {
      "text/plain": [
       "array([1.0289, 1.3505, 1.5916, 1.5916, 1.5916, 1.7588, 1.9453, 1.7203,\n",
       "       1.865 , 1.9293, 1.865 , 2.2186, 2.2026, 2.508 , 2.4598])"
      ]
     },
     "execution_count": 87,
     "metadata": {},
     "output_type": "execute_result"
    }
   ],
   "source": [
    "purchase=df9.iloc[2:17, 7:8]\n",
    "purchase=purchase['Travel Time between Depot and each Warehouses [days]'].values.astype(float)\n",
    "purchase"
   ]
  },
  {
   "cell_type": "code",
   "execution_count": 88,
   "metadata": {},
   "outputs": [],
   "source": [
    "truck=(8350.6*lnc-14542.5)"
   ]
  },
  {
   "cell_type": "code",
   "execution_count": 89,
   "metadata": {},
   "outputs": [
    {
     "data": {
      "text/plain": [
       "array([ 1.47621243,  3.0084435 ,  4.28374424,  4.80751536,  5.21378381,\n",
       "        6.12831659,  7.12117815,  6.79207561,  7.5881559 ,  8.06012017,\n",
       "        7.97712194,  9.69270722,  9.80952774, 11.36759793, 11.33072881])"
      ]
     },
     "execution_count": 89,
     "metadata": {},
     "output_type": "execute_result"
    }
   ],
   "source": [
    "truck_purchase_cast=truck*purchase/7300\n",
    "truck_purchase_cast"
   ]
  },
  {
   "cell_type": "markdown",
   "metadata": {},
   "source": [
    " Warehouse Purchase Cost = 29.725 * T * Number of days used / 7300"
   ]
  },
  {
   "cell_type": "code",
   "execution_count": 97,
   "metadata": {},
   "outputs": [
    {
     "data": {
      "text/plain": [
       "array([140,  60, 140,  60,  60,  60, 120,  40,  40,  40,  40,  20,  20,\n",
       "        20,  20])"
      ]
     },
     "execution_count": 97,
     "metadata": {},
     "output_type": "execute_result"
    }
   ],
   "source": [
    "T1=df9.iloc[2:17, 6:7]\n",
    "#T1 = T1.sort_values('Maximum Warehouse Size')\n",
    "T2=T1['Maximum Warehouse Size'].values.astype(int)\n",
    "T2"
   ]
  },
  {
   "cell_type": "code",
   "execution_count": 98,
   "metadata": {},
   "outputs": [
    {
     "data": {
      "text/plain": [
       "array([ 20,  40,  60,  80, 100, 120, 140, 180, 200, 220, 240, 260, 280,\n",
       "       300, 320], dtype=int64)"
      ]
     },
     "execution_count": 98,
     "metadata": {},
     "output_type": "execute_result"
    }
   ],
   "source": [
    "maxload1"
   ]
  },
  {
   "cell_type": "code",
   "execution_count": 99,
   "metadata": {},
   "outputs": [
    {
     "data": {
      "text/plain": [
       "array([ 120,   20,   80,  -20,  -40,  -60,  -20, -140, -160, -180, -200,\n",
       "       -240, -260, -280, -300])"
      ]
     },
     "execution_count": 99,
     "metadata": {},
     "output_type": "execute_result"
    }
   ],
   "source": [
    "T=np.subtract(T2,maxload1)\n",
    "T.astype(int)"
   ]
  },
  {
   "cell_type": "code",
   "execution_count": 101,
   "metadata": {},
   "outputs": [
    {
     "data": {
      "text/plain": [
       "array([4161.5, 1783.5, 4161.5, 1783.5, 1783.5, 1783.5, 3567. , 1189. ,\n",
       "       1189. , 1189. , 1189. ,  594.5,  594.5,  594.5,  594.5])"
      ]
     },
     "execution_count": 101,
     "metadata": {},
     "output_type": "execute_result"
    }
   ],
   "source": [
    "Tc=T2*29.725\n",
    "Tc"
   ]
  },
  {
   "cell_type": "code",
   "execution_count": 102,
   "metadata": {},
   "outputs": [
    {
     "data": {
      "text/plain": [
       "array([0.58654347, 0.3299475 , 0.90732101, 0.38885186, 0.38885186,\n",
       "       0.42970134, 0.95053221, 0.28019681, 0.30376507, 0.31423804,\n",
       "       0.30376507, 0.18067914, 0.17937612, 0.2042474 , 0.20032207])"
      ]
     },
     "execution_count": 102,
     "metadata": {},
     "output_type": "execute_result"
    }
   ],
   "source": [
    "warehouse_cast=Tc*purchase/7300\n",
    "warehouse_cast"
   ]
  },
  {
   "cell_type": "code",
   "execution_count": 103,
   "metadata": {},
   "outputs": [
    {
     "data": {
      "text/plain": [
       "array([ 2.0627559 ,  3.338391  ,  5.19106525,  5.19636723,  5.60263567,\n",
       "        6.55801794,  8.07171036,  7.07227242,  7.89192097,  8.37435822,\n",
       "        8.280887  ,  9.87338635,  9.98890386, 11.57184533, 11.53105088])"
      ]
     },
     "execution_count": 103,
     "metadata": {},
     "output_type": "execute_result"
    }
   ],
   "source": [
    "equipment_cost=warehouse_cast+truck_purchase_cast\n",
    "equipment_cost"
   ]
  },
  {
   "cell_type": "markdown",
   "metadata": {},
   "source": [
    "Normalized Operating Cost = Truck Operating Cost * Total Demand consumed in 7300 days / (Total Demand consumed in 7300 days + total stock of products at the end - total stock of products at the beginning)\n",
    "Truck Operating Cost = (1.67012 * ln(C) - 2.9885) * truck operation days + number of truck stops at depot or warehouse * 2"
   ]
  },
  {
   "cell_type": "code",
   "execution_count": 104,
   "metadata": {},
   "outputs": [
    {
     "data": {
      "text/plain": [
       "array([ 1,  2,  3,  4,  5,  6,  7,  8,  9, 10, 11, 12, 13, 14, 15],\n",
       "      dtype=int64)"
      ]
     },
     "execution_count": 104,
     "metadata": {},
     "output_type": "execute_result"
    }
   ],
   "source": [
    "data4=pd.DataFrame(x)\n",
    "x={'trucks operation day':[1,2,3,4,5,6,7,8,9,10,11,12,13,14,15]}\n",
    "day=data4['trucks operation day'].values\n",
    "day"
   ]
  },
  {
   "cell_type": "code",
   "execution_count": 105,
   "metadata": {},
   "outputs": [
    {
     "data": {
      "text/plain": [
       "array([1, 2, 3, 4, 5, 5, 4, 3, 2, 1, 5, 4, 3, 2, 1], dtype=int64)"
      ]
     },
     "execution_count": 105,
     "metadata": {},
     "output_type": "execute_result"
    }
   ],
   "source": [
    "truck_stop={'trucks operation day':[1,2,3,4,5,5,4,3,2,1,5,4,3,2,1]}\n",
    "stop=pd.DataFrame(truck_stop)\n",
    "stop=stop['trucks operation day'].values\n",
    "stop"
   ]
  },
  {
   "cell_type": "markdown",
   "metadata": {},
   "source": [
    "Truck Operating Cost = (1.67012 * ln(C) - 2.9885) * <truck operation days>  + <number of truck stops at depot or warehouse> * 2\n",
    "\n",
    "C: Maximum load capacity of a truck (20 ~ 320, 20 increments)\n",
    "\n",
    "“truck operation days” is the actual days took that truck was moving. Loading/Unloading and parking time are not included."
   ]
  },
  {
   "cell_type": "code",
   "execution_count": 106,
   "metadata": {},
   "outputs": [
    {
     "data": {
      "text/plain": [
       "array([  6.04419715,  19.03422812,  34.64592066,  51.96012388,\n",
       "        70.54030247,  80.11497135,  78.96953764,  79.58105534,\n",
       "        76.1842354 ,  72.23406285, 129.46131825, 125.97011211,\n",
       "       122.02322143, 117.67502136, 112.96990045])"
      ]
     },
     "execution_count": 106,
     "metadata": {},
     "output_type": "execute_result"
    }
   ],
   "source": [
    "operating_cast=1.67012*lnc-2.9885\n",
    "truck_operating_cast=operating_cast*(day+stop*2)\n",
    "truck_operating_cast"
   ]
  },
  {
   "cell_type": "code",
   "execution_count": 108,
   "metadata": {},
   "outputs": [
    {
     "data": {
      "text/plain": [
       "array([4.0287445, 1.1438278, 2.7427394, 1.1438278, 1.9438663, 1.8296583,\n",
       "       1.3722437, 0.8006212, 0.6864132, 0.5716226, 0.6864132, 0.4574146,\n",
       "       0.6864132, 0.8006212, 0.6864132])"
      ]
     },
     "execution_count": 108,
     "metadata": {},
     "output_type": "execute_result"
    }
   ],
   "source": [
    "demand=df9.iloc[2:17,1:2]\n",
    "demand\n",
    "demand=demand['Demand'].values\n",
    "demand"
   ]
  },
  {
   "cell_type": "code",
   "execution_count": 110,
   "metadata": {},
   "outputs": [
    {
     "data": {
      "text/plain": [
       "array([20., 20., 20., 20., 20., 20., 20., 20., 20., 20., 20., 20., 20.,\n",
       "       20., 20.])"
      ]
     },
     "execution_count": 110,
     "metadata": {},
     "output_type": "execute_result"
    }
   ],
   "source": [
    "beg=df9.iloc[2:17,4:5]\n",
    "beg\n",
    "beg1=beg['Initial Possible Truck Size'].values\n",
    "beg1"
   ]
  },
  {
   "cell_type": "code",
   "execution_count": 112,
   "metadata": {},
   "outputs": [],
   "source": [
    "end=df9.iloc[2:17,5:6]\n",
    "end=end['Possible Truck Size'].values"
   ]
  },
  {
   "cell_type": "code",
   "execution_count": 113,
   "metadata": {},
   "outputs": [],
   "source": [
    "new=end-beg1"
   ]
  },
  {
   "cell_type": "code",
   "execution_count": 114,
   "metadata": {},
   "outputs": [
    {
     "data": {
      "text/plain": [
       "array([ 1235.94483014,  1237.21266968,  1239.30692612,  1239.19570759,\n",
       "        1239.85874425,  1240.84564751,  1242.23326518,  1241.08606947,\n",
       "        1241.86781733,  1242.31371327,  1242.37840539, 12348.08497648,\n",
       "       12348.28727498, 12349.90486715, 12349.80875489])"
      ]
     },
     "execution_count": 114,
     "metadata": {},
     "output_type": "execute_result"
    }
   ],
   "source": [
    "demand1=demand+new\n",
    "demand2=demand/demand1\n",
    "normalised_cast=truck_operating_cast*demand2\n",
    "normalised_cast\n",
    "totalcast=normalised_cast+warehouse_cast+truck_purchase_cast+investment_cast\n",
    "totalcast"
   ]
  },
  {
   "cell_type": "code",
   "execution_count": 115,
   "metadata": {},
   "outputs": [],
   "source": [
    "#now we  store dataset for input file1"
   ]
  },
  {
   "cell_type": "code",
   "execution_count": 126,
   "metadata": {},
   "outputs": [],
   "source": [
    "w=df9.iloc[2:17, 0:1]\n",
    "w1=w['Unnamed: 0'].values"
   ]
  },
  {
   "cell_type": "code",
   "execution_count": 127,
   "metadata": {},
   "outputs": [
    {
     "data": {
      "text/plain": [
       "array(['wh.1', 'wh.2', 'wh.3', 'wh.4', 'wh.5', 'wh.6', 'wh.7', 'wh.8',\n",
       "       'wh.9', 'wh.10', 'wh.11', 'wh.12', 'wh.13', 'wh.14', 'wh.15'],\n",
       "      dtype=object)"
      ]
     },
     "execution_count": 127,
     "metadata": {},
     "output_type": "execute_result"
    }
   ],
   "source": [
    "w1"
   ]
  },
  {
   "cell_type": "code",
   "execution_count": 155,
   "metadata": {},
   "outputs": [
    {
     "data": {
      "text/plain": [
       "array([0.0041, 0.0041, 0.0041, 0.0041, 0.0041, 0.0041, 0.0041, 0.0041,\n",
       "       0.0041, 0.0041, 0.0041, 0.0041, 0.0041, 0.0041, 0.0041])"
      ]
     },
     "execution_count": 155,
     "metadata": {},
     "output_type": "execute_result"
    }
   ],
   "source": [
    "w2=df9.iloc[2:17, 2:3]\n",
    "w2=w2['Demand Growth Rate'].values\n",
    "w2"
   ]
  },
  {
   "cell_type": "code",
   "execution_count": 165,
   "metadata": {},
   "outputs": [],
   "source": [
    "w3=df9['Unnamed: 0'].values\n",
    "w4=df9['Demand'].values\n",
    "w5=df9['Maximum Warehouse Size'].values\n",
    "import pandas \n",
    "df=pandas.DataFrame(data={\"Ware\":w3,\"Demand\":w4,\"Maximum Warehouse Size\":w5})\n",
    "df.to_csv(\"./dataset9_warehouse_input.csv\", sep=',',index=False)"
   ]
  },
  {
   "cell_type": "code",
   "execution_count": 166,
   "metadata": {},
   "outputs": [],
   "source": [
    "import pandas\n",
    "df = pandas.DataFrame(data={\"WAREhoues\":w1,\"DEMAND GROWTH RATE\":w2,\"L\":x4,\"possible truck size\":x5,\"intial possible truck size\":x3,\"maximum loading capicity\":\n",
    "                            maxload1,\"number of days  used\":purchase,\"maximum warehouse size\":T2,\"truck operation day\":\n",
    "                            day,\"truck stopage\":stop,\"Demand\":demand,\n",
    "                            \"total stock of products at the end\":end,\n",
    "                            \"total stock of products at the begining\":beg1,\n",
    "                            \"Normalized Operating Cost\": normalised_cast, \"truck operating cast\": truck_operating_cast,\"Equipment cast\":equipment_cost,\n",
    "                            \"Truck  purchase cast\":truck_purchase_cast,\"Investment Cost\" : investment_cast,\n",
    "                            \"total cast(Equipment cost + Normalized Operating Cost + Investment Cost)\":totalcast})\n",
    "df.to_csv(\"./dataset9_solution.csv\", sep=',',index=False)"
   ]
  },
  {
   "cell_type": "markdown",
   "metadata": {},
   "source": [
    "# conclusion"
   ]
  },
  {
   "cell_type": "markdown",
   "metadata": {},
   "source": [
    "at last we computed all condition for above datasets and corresponding which we have find total cast and warehouse wh1, wh2,...., and also find truck purchase cast, investment cast , equipment cast, normalized cast, and also find minimum time interval between two stop of truck and also find time interval and demand of the truck with corresponding demand growth rate "
   ]
  },
  {
   "cell_type": "code",
   "execution_count": null,
   "metadata": {},
   "outputs": [],
   "source": []
  }
 ],
 "metadata": {
  "kernelspec": {
   "display_name": "Python 3",
   "language": "python",
   "name": "python3"
  },
  "language_info": {
   "codemirror_mode": {
    "name": "ipython",
    "version": 3
   },
   "file_extension": ".py",
   "mimetype": "text/x-python",
   "name": "python",
   "nbconvert_exporter": "python",
   "pygments_lexer": "ipython3",
   "version": "3.7.3"
  }
 },
 "nbformat": 4,
 "nbformat_minor": 2
}
