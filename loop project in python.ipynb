{
 "cells": [
  {
   "cell_type": "code",
   "execution_count": 1,
   "metadata": {},
   "outputs": [
    {
     "ename": "SyntaxError",
     "evalue": "invalid syntax (<ipython-input-1-9d3ab0f34b43>, line 11)",
     "output_type": "error",
     "traceback": [
      "\u001b[1;36m  File \u001b[1;32m\"<ipython-input-1-9d3ab0f34b43>\"\u001b[1;36m, line \u001b[1;32m11\u001b[0m\n\u001b[1;33m    with open('kumar.txt', 'a+') as file\u001b[0m\n\u001b[1;37m                                        ^\u001b[0m\n\u001b[1;31mSyntaxError\u001b[0m\u001b[1;31m:\u001b[0m invalid syntax\n"
     ]
    }
   ],
   "source": [
    "ans='y'\n",
    "while ans=='y':\n",
    "    print('1. addname')\n",
    "    print('2. search name')\n",
    "    print('3. delete name')\n",
    "    print('4. modify name')\n",
    "    print('5. show all')\n",
    "    print('6.exit')\n",
    "    ch=int(input())\n",
    "    if ch==1:\n",
    "        with open('kumar.txt', 'a+') as file\n",
    "        file.input(name)\n",
    "    elif ch==2:\n",
    "        sname=input('search name') +'\\n'\n",
    "        alldata=list()\n",
    "        with open('kumar.txt','r') as file\n",
    "        if sname in alldata:\n",
    "            print('name found')\n",
    "            else:\n",
    "                print('name not found')\n",
    "    elif ch==3:\n",
    "        dname=input('enter name to delete')+'\\n'\n",
    "        alldata=list()\n",
    "        with open('kumar.txt','r')+'\\n'\n",
    "        alldata=list()\n",
    "        alldata.remove(dname)\n",
    "        with open('kumar.txt','w') as file\n",
    "        for x in all data:\n",
    "            file.write(x)\n",
    "    elif ch==4:\n",
    "        uname=input('name to update')\n",
    "        nname=input('name to new update')+'\\n'\n",
    "        alldata=list()\n",
    "        with open('kumar.txt','r') as file\n",
    "        alldata=file.readlines()\n",
    "        i=alldata.index(uname)\n",
    "        alldata[i]=nname\n",
    "        with open('kumar.txt','w') as file\n",
    "        alldata=list()\n",
    "        file.write(x)\n",
    "    elif ch==5:\n",
    "        with open('kumar.txt','r') as file\n",
    "        alldata=list()\n",
    "        alldata=file.readlines()\n",
    "        for x in alldata:\n",
    "            print(x)\n",
    "    elif ch==6:\n",
    "        exit(0)\n",
    "        print('comtinue...y/n')\n",
    "        ans=input()\n",
    "        "
   ]
  },
  {
   "cell_type": "code",
   "execution_count": null,
   "metadata": {},
   "outputs": [],
   "source": []
  },
  {
   "cell_type": "code",
   "execution_count": null,
   "metadata": {},
   "outputs": [],
   "source": []
  }
 ],
 "metadata": {
  "kernelspec": {
   "display_name": "Python 3",
   "language": "python",
   "name": "python3"
  },
  "language_info": {
   "codemirror_mode": {
    "name": "ipython",
    "version": 3
   },
   "file_extension": ".py",
   "mimetype": "text/x-python",
   "name": "python",
   "nbconvert_exporter": "python",
   "pygments_lexer": "ipython3",
   "version": "3.7.3"
  }
 },
 "nbformat": 4,
 "nbformat_minor": 2
}
